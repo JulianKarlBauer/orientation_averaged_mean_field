{
 "cells": [
  {
   "cell_type": "markdown",
   "id": "9ab2b0bc",
   "metadata": {},
   "source": [
    "# Integrate random planar FODF with numerical averager"
   ]
  },
  {
   "cell_type": "code",
   "execution_count": 1,
   "id": "40cefa26",
   "metadata": {
    "execution": {
     "iopub.execute_input": "2022-05-05T14:40:30.932963Z",
     "iopub.status.busy": "2022-05-05T14:40:30.930109Z",
     "iopub.status.idle": "2022-05-05T14:40:31.553823Z",
     "shell.execute_reply": "2022-05-05T14:40:31.553366Z"
    }
   },
   "outputs": [],
   "source": [
    "import planarfibers\n",
    "import pandas as pd\n",
    "import numpy as np"
   ]
  },
  {
   "cell_type": "code",
   "execution_count": 2,
   "id": "6308cdec",
   "metadata": {
    "execution": {
     "iopub.execute_input": "2022-05-05T14:40:31.556989Z",
     "iopub.status.busy": "2022-05-05T14:40:31.556507Z",
     "iopub.status.idle": "2022-05-05T14:40:31.558696Z",
     "shell.execute_reply": "2022-05-05T14:40:31.558295Z"
    },
    "lines_to_next_cell": 2
   },
   "outputs": [],
   "source": [
    "pd.set_option(\"display.max_columns\", 100)\n",
    "pd.set_option(\"display.width\", 1000)\n",
    "np.set_printoptions(linewidth=400)"
   ]
  },
  {
   "cell_type": "code",
   "execution_count": 3,
   "id": "d56f668b",
   "metadata": {
    "execution": {
     "iopub.execute_input": "2022-05-05T14:40:31.561981Z",
     "iopub.status.busy": "2022-05-05T14:40:31.561587Z",
     "iopub.status.idle": "2022-05-05T14:40:31.563470Z",
     "shell.execute_reply": "2022-05-05T14:40:31.563786Z"
    }
   },
   "outputs": [],
   "source": [
    "# Select random FODF: choose exact closre FODF, see equation (77) in \"Fiber orientation distributions based on planar fiber orientation tensors of fourth order. Math. Mech. Solids (to appear 2022)\"\".\n",
    "la1 = 5 / 6\n",
    "odf_func = lambda phi: ((1.0 - la1) * la1) / (\n",
    "    2.0 * np.pi * (la1**2 + (1.0 - 2.0 * la1) * np.cos(phi) ** 2)\n",
    ")"
   ]
  },
  {
   "cell_type": "code",
   "execution_count": 4,
   "id": "4d63b974",
   "metadata": {
    "execution": {
     "iopub.execute_input": "2022-05-05T14:40:31.567601Z",
     "iopub.status.busy": "2022-05-05T14:40:31.566705Z",
     "iopub.status.idle": "2022-05-05T14:40:31.597835Z",
     "shell.execute_reply": "2022-05-05T14:40:31.597422Z"
    }
   },
   "outputs": [
    {
     "name": "stdout",
     "output_type": "stream",
     "text": [
      "[[24.52696446  4.87908133  4.87908133  0.          0.          0.        ]\n",
      " [ 4.87908133  9.12135685  5.36895671  0.          0.          0.        ]\n",
      " [ 4.87908133  5.36895671  9.12135685  0.          0.          0.        ]\n",
      " [ 0.          0.          0.          3.75240015  0.          0.        ]\n",
      " [ 0.          0.          0.          0.          3.97000178  0.        ]\n",
      " [ 0.          0.          0.          0.          0.          3.97000178]]\n"
     ]
    }
   ],
   "source": [
    "# Select quantity which is to be averaged\n",
    "quantity = planarfibers.approximation.calc_MT_UD()\n",
    "print(quantity)"
   ]
  },
  {
   "cell_type": "code",
   "execution_count": 5,
   "id": "90e0566d",
   "metadata": {
    "execution": {
     "iopub.execute_input": "2022-05-05T14:40:31.601732Z",
     "iopub.status.busy": "2022-05-05T14:40:31.601164Z",
     "iopub.status.idle": "2022-05-05T14:40:31.614278Z",
     "shell.execute_reply": "2022-05-05T14:40:31.614605Z"
    }
   },
   "outputs": [
    {
     "name": "stdout",
     "output_type": "stream",
     "text": [
      "[[ 2.08517135e+01  5.98673099e+00  4.96072722e+00  0.00000000e+00  0.00000000e+00  8.54110020e-16]\n",
      " [ 5.98673099e+00  1.05813085e+01  5.28731081e+00  0.00000000e+00  0.00000000e+00 -6.43671067e-17]\n",
      " [ 4.96072722e+00  5.28731081e+00  9.12135685e+00  0.00000000e+00  0.00000000e+00 -8.74005141e-18]\n",
      " [ 0.00000000e+00  0.00000000e+00  0.00000000e+00  3.78866709e+00  1.53209539e-17  0.00000000e+00]\n",
      " [ 0.00000000e+00  0.00000000e+00  0.00000000e+00  5.77997479e-18  3.93373484e+00  0.00000000e+00]\n",
      " [ 1.01914811e-15 -1.51996602e-16 -1.44620409e-17  0.00000000e+00  0.00000000e+00  6.18530110e+00]]\n"
     ]
    }
   ],
   "source": [
    "# Average\n",
    "averager = planarfibers.averager.AveragerPlanar(odf_planar=odf_func)\n",
    "average = averager.average(quantity)\n",
    "print(average)"
   ]
  }
 ],
 "metadata": {
  "jupytext": {
   "cell_metadata_filter": "-all",
   "main_language": "python",
   "notebook_metadata_filter": "-all"
  },
  "language_info": {
   "codemirror_mode": {
    "name": "ipython",
    "version": 3
   },
   "file_extension": ".py",
   "mimetype": "text/x-python",
   "name": "python",
   "nbconvert_exporter": "python",
   "pygments_lexer": "ipython3",
   "version": "3.9.7"
  }
 },
 "nbformat": 4,
 "nbformat_minor": 5
}
