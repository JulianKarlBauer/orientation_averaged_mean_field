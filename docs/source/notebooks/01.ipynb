{
 "cells": [
  {
   "cell_type": "markdown",
   "id": "673177bf",
   "metadata": {},
   "source": [
    "# Get points witin admissible parameter space"
   ]
  },
  {
   "cell_type": "code",
   "execution_count": 1,
   "id": "918104c8",
   "metadata": {
    "execution": {
     "iopub.execute_input": "2022-05-05T14:19:18.436725Z",
     "iopub.status.busy": "2022-05-05T14:19:18.431748Z",
     "iopub.status.idle": "2022-05-05T14:19:19.491249Z",
     "shell.execute_reply": "2022-05-05T14:19:19.490340Z"
    }
   },
   "outputs": [],
   "source": [
    "import planarfibers\n",
    "import pandas as pd\n",
    "pd.set_option('display.max_columns', 100)\n",
    "pd.set_option('display.width', 1000)"
   ]
  },
  {
   "cell_type": "code",
   "execution_count": 2,
   "id": "e3a42ae0",
   "metadata": {
    "execution": {
     "iopub.execute_input": "2022-05-05T14:19:19.505712Z",
     "iopub.status.busy": "2022-05-05T14:19:19.504938Z",
     "iopub.status.idle": "2022-05-05T14:19:19.947516Z",
     "shell.execute_reply": "2022-05-05T14:19:19.946202Z"
    }
   },
   "outputs": [],
   "source": [
    "df = planarfibers.discretization.get_points_on_slices(\n",
    "    radii=[\"0\", \"1/2\", \"9/10\"],\n",
    "    la1s=[\"1/2\", \"4/6\", \"5/6\", \"1\"],\n",
    "    numeric=False,\n",
    ")"
   ]
  },
  {
   "cell_type": "code",
   "execution_count": 3,
   "id": "33fa912c",
   "metadata": {
    "execution": {
     "iopub.execute_input": "2022-05-05T14:19:19.956545Z",
     "iopub.status.busy": "2022-05-05T14:19:19.955769Z",
     "iopub.status.idle": "2022-05-05T14:19:19.992332Z",
     "shell.execute_reply": "2022-05-05T14:19:19.992915Z"
    }
   },
   "outputs": [
    {
     "name": "stdout",
     "output_type": "stream",
     "text": [
      "                    la1 radius_factor   beta      r                        d_1            d_8\n",
      "v00-upper-0         1/2          9/10   pi/2   9/80                     69/560              0\n",
      "v00-upper-1         2/3          9/10   pi/2   1/10                     61/630              0\n",
      "v00-upper-2         5/6          9/10   pi/2   1/16                    89/5040              0\n",
      "v00-mid-0           1/2             0      0      0                      3/280              0\n",
      "v00-mid-1           2/3             0      0      0                     -1/315              0\n",
      "v00-mid-2           5/6             0      0      0                  -113/2520              0\n",
      "v00-lower-0         1/2          9/10  -pi/2   9/80                    -57/560              0\n",
      "v00-lower-1         2/3          9/10  -pi/2   1/10                    -13/126              0\n",
      "v00-lower-2         5/6          9/10  -pi/2   1/16                  -541/5040              0\n",
      "v00-mid-3             1             0      0      0                      -4/35              0\n",
      "vshc-central-la1-0  1/2             0      0      0                      3/280              0\n",
      "vshc-m90-0-la1-0    1/2           1/2  -pi/2   1/16                    -29/560              0\n",
      "vshc-m90-1-la1-0    1/2          9/10  -pi/2   9/80                    -57/560              0\n",
      "vshc-m45-0-la1-0    1/2           1/2  -pi/4   1/16         3/280 - sqrt(2)/32     sqrt(2)/32\n",
      "vshc-m45-1-la1-0    1/2          9/10  -pi/4   9/80      3/280 - 9*sqrt(2)/160  9*sqrt(2)/160\n",
      "vshc-0-0-la1-0      1/2           1/2      0   1/16                      3/280           1/16\n",
      "vshc-0-1-la1-0      1/2          9/10      0   9/80                      3/280           9/80\n",
      "vshc-45-0-la1-0     1/2           1/2   pi/4   1/16         3/280 + sqrt(2)/32     sqrt(2)/32\n",
      "vshc-45-1-la1-0     1/2          9/10   pi/4   9/80      3/280 + 9*sqrt(2)/160  9*sqrt(2)/160\n",
      "vshc-90-0-la1-0     1/2           1/2   pi/2   1/16                     41/560              0\n",
      "vshc-90-1-la1-0     1/2          9/10   pi/2   9/80                     69/560              0\n",
      "vshc-central-la1-1  2/3             0      0      0                     -1/315              0\n",
      "vshc-m90-0-la1-1    2/3           1/2  -pi/2   1/18                    -37/630              0\n",
      "vshc-m90-1-la1-1    2/3          9/10  -pi/2   1/10                    -13/126              0\n",
      "vshc-m45-0-la1-1    2/3           1/2  -pi/4   1/18        -sqrt(2)/36 - 1/315     sqrt(2)/36\n",
      "vshc-m45-1-la1-1    2/3          9/10  -pi/4   1/10        -sqrt(2)/20 - 1/315     sqrt(2)/20\n",
      "vshc-0-0-la1-1      2/3           1/2      0   1/18                     -1/315           1/18\n",
      "vshc-0-1-la1-1      2/3          9/10      0   1/10                     -1/315           1/10\n",
      "vshc-45-0-la1-1     2/3           1/2   pi/4   1/18        -1/315 + sqrt(2)/36     sqrt(2)/36\n",
      "vshc-45-1-la1-1     2/3          9/10   pi/4   1/10        -1/315 + sqrt(2)/20     sqrt(2)/20\n",
      "vshc-90-0-la1-1     2/3           1/2   pi/2   1/18                     11/210              0\n",
      "vshc-90-1-la1-1     2/3          9/10   pi/2   1/10                     61/630              0\n",
      "vshc-central-la1-2  5/6             0      0      0                  -113/2520              0\n",
      "vshc-m90-0-la1-2    5/6           1/2  -pi/2  5/144                  -401/5040              0\n",
      "vshc-m90-1-la1-2    5/6          9/10  -pi/2   1/16                  -541/5040              0\n",
      "vshc-m45-0-la1-2    5/6           1/2  -pi/4  5/144  -113/2520 - 5*sqrt(2)/288  5*sqrt(2)/288\n",
      "vshc-m45-1-la1-2    5/6          9/10  -pi/4   1/16     -113/2520 - sqrt(2)/32     sqrt(2)/32\n",
      "vshc-0-0-la1-2      5/6           1/2      0  5/144                  -113/2520          5/144\n",
      "vshc-0-1-la1-2      5/6          9/10      0   1/16                  -113/2520           1/16\n",
      "vshc-45-0-la1-2     5/6           1/2   pi/4  5/144  -113/2520 + 5*sqrt(2)/288  5*sqrt(2)/288\n",
      "vshc-45-1-la1-2     5/6          9/10   pi/4   1/16     -113/2520 + sqrt(2)/32     sqrt(2)/32\n",
      "vshc-90-0-la1-2     5/6           1/2   pi/2  5/144                   -17/1680              0\n",
      "vshc-90-1-la1-2     5/6          9/10   pi/2   1/16                    89/5040              0\n"
     ]
    }
   ],
   "source": [
    "print(df)"
   ]
  }
 ],
 "metadata": {
  "jupytext": {
   "cell_metadata_filter": "-all",
   "main_language": "python",
   "notebook_metadata_filter": "-all"
  },
  "language_info": {
   "codemirror_mode": {
    "name": "ipython",
    "version": 3
   },
   "file_extension": ".py",
   "mimetype": "text/x-python",
   "name": "python",
   "nbconvert_exporter": "python",
   "pygments_lexer": "ipython3",
   "version": "3.9.7"
  }
 },
 "nbformat": 4,
 "nbformat_minor": 5
}
